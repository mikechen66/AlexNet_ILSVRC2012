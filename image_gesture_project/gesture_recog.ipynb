{
 "cells": [
  {
   "cell_type": "code",
   "execution_count": 1,
   "metadata": {},
   "outputs": [],
   "source": [
    "# gesture_recog.ipynb\n",
    "\n",
    "# The model is to train the guesture of images with the Leap Motion \n",
    "# T. Mantecón, C.R. del Blanco, F. Jaureguizar, N. García, “Hand Gesture Recognition using Infrared \n",
    "# Imagery Provided by Leap Motion Controller”, Int. Conf. on Advanced Concepts for Intelligent Vision\n",
    "# Systems, ACIVS 2016, Lecce, Italy, pp. 47-57, 24-27 Oct. 2016. (doi: 10.1007/978-3-319-48680-2_5)\n",
    "\n",
    "# Please download the leapgestrecog dataset from Kaggle. \n",
    "# https://www.kaggle.com/gti-upm/leapgestrecog"
   ]
  },
  {
   "cell_type": "code",
   "execution_count": 2,
   "metadata": {},
   "outputs": [],
   "source": [
    "# Set up the GPU growth to avoid the sudden runtime error.\n",
    "\n",
    "import tensorflow as tf\n",
    "\n",
    "gpus = tf.config.experimental.list_physical_devices('GPU')\n",
    "for gpu in gpus:\n",
    "    tf.config.experimental.set_memory_growth(gpu, True)"
   ]
  },
  {
   "cell_type": "code",
   "execution_count": 3,
   "metadata": {},
   "outputs": [],
   "source": [
    "import tensorflow as tf\n",
    "from keras.preprocessing.image import ImageDataGenerator\n",
    "from keras import optimizers\n",
    "import matplotlib.pyplot as plt\n",
    "from alexnet import AlexNet\n",
    "from keras.models import load_model\n",
    "from keras import models\n",
    "\n",
    "from keras.preprocessing import image\n",
    "import numpy as np\n",
    "import datetime\n",
    "import os\n",
    "import shutil\n",
    "from PIL import Image\n",
    "from numba import cuda"
   ]
  },
  {
   "cell_type": "code",
   "execution_count": 4,
   "metadata": {},
   "outputs": [
    {
     "name": "stdout",
     "output_type": "stream",
     "text": [
      "[INFO]Category：/home/mike/Documents/image_gesture/leapgestrecog/leapGestRecog/06 06\n",
      "[INFO]Type：/home/mike/Documents/image_gesture/leapgestrecog/leapGestRecog/06/03_fist 03_fist\n",
      "[INFO]Type：/home/mike/Documents/image_gesture/leapgestrecog/leapGestRecog/06/08_palm_moved 08_palm_moved\n",
      "[INFO]Type：/home/mike/Documents/image_gesture/leapgestrecog/leapGestRecog/06/06_index 06_index\n",
      "[INFO]Type：/home/mike/Documents/image_gesture/leapgestrecog/leapGestRecog/06/09_c 09_c\n",
      "[INFO]Type：/home/mike/Documents/image_gesture/leapgestrecog/leapGestRecog/06/10_down 10_down\n",
      "[INFO]Type：/home/mike/Documents/image_gesture/leapgestrecog/leapGestRecog/06/01_palm 01_palm\n",
      "[INFO]Type：/home/mike/Documents/image_gesture/leapgestrecog/leapGestRecog/06/05_thumb 05_thumb\n",
      "[INFO]Type：/home/mike/Documents/image_gesture/leapgestrecog/leapGestRecog/06/02_l 02_l\n",
      "[INFO]Type：/home/mike/Documents/image_gesture/leapgestrecog/leapGestRecog/06/04_fist_moved 04_fist_moved\n",
      "[INFO]Type：/home/mike/Documents/image_gesture/leapgestrecog/leapGestRecog/06/07_ok 07_ok\n",
      "[INFO]One Person Finished： /home/mike/Documents/image_gesture/leapgestrecog/leapGestRecog/06/07_ok\n",
      "[INFO]Category：/home/mike/Documents/image_gesture/leapgestrecog/leapGestRecog/03 03\n",
      "[INFO]Type：/home/mike/Documents/image_gesture/leapgestrecog/leapGestRecog/03/03_fist 03_fist\n",
      "[INFO]Type：/home/mike/Documents/image_gesture/leapgestrecog/leapGestRecog/03/08_palm_moved 08_palm_moved\n",
      "[INFO]Type：/home/mike/Documents/image_gesture/leapgestrecog/leapGestRecog/03/06_index 06_index\n",
      "[INFO]Type：/home/mike/Documents/image_gesture/leapgestrecog/leapGestRecog/03/09_c 09_c\n",
      "[INFO]Type：/home/mike/Documents/image_gesture/leapgestrecog/leapGestRecog/03/10_down 10_down\n",
      "[INFO]Type：/home/mike/Documents/image_gesture/leapgestrecog/leapGestRecog/03/01_palm 01_palm\n",
      "[INFO]Type：/home/mike/Documents/image_gesture/leapgestrecog/leapGestRecog/03/05_thumb 05_thumb\n",
      "[INFO]Type：/home/mike/Documents/image_gesture/leapgestrecog/leapGestRecog/03/02_l 02_l\n",
      "[INFO]Type：/home/mike/Documents/image_gesture/leapgestrecog/leapGestRecog/03/04_fist_moved 04_fist_moved\n",
      "[INFO]Type：/home/mike/Documents/image_gesture/leapgestrecog/leapGestRecog/03/07_ok 07_ok\n",
      "[INFO]One Person Finished： /home/mike/Documents/image_gesture/leapgestrecog/leapGestRecog/03/07_ok\n",
      "[INFO]Category：/home/mike/Documents/image_gesture/leapgestrecog/leapGestRecog/04 04\n",
      "[INFO]Type：/home/mike/Documents/image_gesture/leapgestrecog/leapGestRecog/04/03_fist 03_fist\n",
      "[INFO]Type：/home/mike/Documents/image_gesture/leapgestrecog/leapGestRecog/04/08_palm_moved 08_palm_moved\n",
      "[INFO]Type：/home/mike/Documents/image_gesture/leapgestrecog/leapGestRecog/04/06_index 06_index\n",
      "[INFO]Type：/home/mike/Documents/image_gesture/leapgestrecog/leapGestRecog/04/09_c 09_c\n",
      "[INFO]Type：/home/mike/Documents/image_gesture/leapgestrecog/leapGestRecog/04/10_down 10_down\n",
      "[INFO]Type：/home/mike/Documents/image_gesture/leapgestrecog/leapGestRecog/04/01_palm 01_palm\n",
      "[INFO]Type：/home/mike/Documents/image_gesture/leapgestrecog/leapGestRecog/04/05_thumb 05_thumb\n",
      "[INFO]Type：/home/mike/Documents/image_gesture/leapgestrecog/leapGestRecog/04/02_l 02_l\n",
      "[INFO]Type：/home/mike/Documents/image_gesture/leapgestrecog/leapGestRecog/04/04_fist_moved 04_fist_moved\n",
      "[INFO]Type：/home/mike/Documents/image_gesture/leapgestrecog/leapGestRecog/04/07_ok 07_ok\n",
      "[INFO]One Person Finished： /home/mike/Documents/image_gesture/leapgestrecog/leapGestRecog/04/07_ok\n",
      "[INFO]Category：/home/mike/Documents/image_gesture/leapgestrecog/leapGestRecog/02 02\n",
      "[INFO]Type：/home/mike/Documents/image_gesture/leapgestrecog/leapGestRecog/02/03_fist 03_fist\n",
      "[INFO]Type：/home/mike/Documents/image_gesture/leapgestrecog/leapGestRecog/02/08_palm_moved 08_palm_moved\n",
      "[INFO]Type：/home/mike/Documents/image_gesture/leapgestrecog/leapGestRecog/02/06_index 06_index\n",
      "[INFO]Type：/home/mike/Documents/image_gesture/leapgestrecog/leapGestRecog/02/09_c 09_c\n",
      "[INFO]Type：/home/mike/Documents/image_gesture/leapgestrecog/leapGestRecog/02/10_down 10_down\n",
      "[INFO]Type：/home/mike/Documents/image_gesture/leapgestrecog/leapGestRecog/02/01_palm 01_palm\n",
      "[INFO]Type：/home/mike/Documents/image_gesture/leapgestrecog/leapGestRecog/02/05_thumb 05_thumb\n",
      "[INFO]Type：/home/mike/Documents/image_gesture/leapgestrecog/leapGestRecog/02/02_l 02_l\n",
      "[INFO]Type：/home/mike/Documents/image_gesture/leapgestrecog/leapGestRecog/02/04_fist_moved 04_fist_moved\n",
      "[INFO]Type：/home/mike/Documents/image_gesture/leapgestrecog/leapGestRecog/02/07_ok 07_ok\n",
      "[INFO]One Person Finished： /home/mike/Documents/image_gesture/leapgestrecog/leapGestRecog/02/07_ok\n",
      "[INFO]Category：/home/mike/Documents/image_gesture/leapgestrecog/leapGestRecog/08 08\n",
      "[INFO]Type：/home/mike/Documents/image_gesture/leapgestrecog/leapGestRecog/08/03_fist 03_fist\n",
      "[INFO]Type：/home/mike/Documents/image_gesture/leapgestrecog/leapGestRecog/08/08_palm_moved 08_palm_moved\n",
      "[INFO]Type：/home/mike/Documents/image_gesture/leapgestrecog/leapGestRecog/08/06_index 06_index\n",
      "[INFO]Type：/home/mike/Documents/image_gesture/leapgestrecog/leapGestRecog/08/09_c 09_c\n",
      "[INFO]Type：/home/mike/Documents/image_gesture/leapgestrecog/leapGestRecog/08/10_down 10_down\n",
      "[INFO]Type：/home/mike/Documents/image_gesture/leapgestrecog/leapGestRecog/08/01_palm 01_palm\n",
      "[INFO]Type：/home/mike/Documents/image_gesture/leapgestrecog/leapGestRecog/08/05_thumb 05_thumb\n",
      "[INFO]Type：/home/mike/Documents/image_gesture/leapgestrecog/leapGestRecog/08/02_l 02_l\n",
      "[INFO]Type：/home/mike/Documents/image_gesture/leapgestrecog/leapGestRecog/08/04_fist_moved 04_fist_moved\n",
      "[INFO]Type：/home/mike/Documents/image_gesture/leapgestrecog/leapGestRecog/08/07_ok 07_ok\n",
      "[INFO]One Person Finished： /home/mike/Documents/image_gesture/leapgestrecog/leapGestRecog/08/07_ok\n",
      "[INFO]Category：/home/mike/Documents/image_gesture/leapgestrecog/leapGestRecog/01 01\n",
      "[INFO]Type：/home/mike/Documents/image_gesture/leapgestrecog/leapGestRecog/01/03_fist 03_fist\n",
      "[INFO]Type：/home/mike/Documents/image_gesture/leapgestrecog/leapGestRecog/01/08_palm_moved 08_palm_moved\n",
      "[INFO]Type：/home/mike/Documents/image_gesture/leapgestrecog/leapGestRecog/01/06_index 06_index\n",
      "[INFO]Type：/home/mike/Documents/image_gesture/leapgestrecog/leapGestRecog/01/09_c 09_c\n",
      "[INFO]Type：/home/mike/Documents/image_gesture/leapgestrecog/leapGestRecog/01/10_down 10_down\n",
      "[INFO]Type：/home/mike/Documents/image_gesture/leapgestrecog/leapGestRecog/01/01_palm 01_palm\n",
      "[INFO]Type：/home/mike/Documents/image_gesture/leapgestrecog/leapGestRecog/01/05_thumb 05_thumb\n",
      "[INFO]Type：/home/mike/Documents/image_gesture/leapgestrecog/leapGestRecog/01/02_l 02_l\n",
      "[INFO]Type：/home/mike/Documents/image_gesture/leapgestrecog/leapGestRecog/01/04_fist_moved 04_fist_moved\n",
      "[INFO]Type：/home/mike/Documents/image_gesture/leapgestrecog/leapGestRecog/01/07_ok 07_ok\n",
      "[INFO]One Person Finished： /home/mike/Documents/image_gesture/leapgestrecog/leapGestRecog/01/07_ok\n",
      "[INFO]Category：/home/mike/Documents/image_gesture/leapgestrecog/leapGestRecog/00 00\n",
      "[INFO]Type：/home/mike/Documents/image_gesture/leapgestrecog/leapGestRecog/00/03_fist 03_fist\n",
      "[INFO]Type：/home/mike/Documents/image_gesture/leapgestrecog/leapGestRecog/00/08_palm_moved 08_palm_moved\n",
      "[INFO]Type：/home/mike/Documents/image_gesture/leapgestrecog/leapGestRecog/00/06_index 06_index\n",
      "[INFO]Type：/home/mike/Documents/image_gesture/leapgestrecog/leapGestRecog/00/09_c 09_c\n",
      "[INFO]Type：/home/mike/Documents/image_gesture/leapgestrecog/leapGestRecog/00/10_down 10_down\n",
      "[INFO]Type：/home/mike/Documents/image_gesture/leapgestrecog/leapGestRecog/00/01_palm 01_palm\n",
      "[INFO]Type：/home/mike/Documents/image_gesture/leapgestrecog/leapGestRecog/00/05_thumb 05_thumb\n",
      "[INFO]Type：/home/mike/Documents/image_gesture/leapgestrecog/leapGestRecog/00/02_l 02_l\n",
      "[INFO]Type：/home/mike/Documents/image_gesture/leapgestrecog/leapGestRecog/00/04_fist_moved 04_fist_moved\n",
      "[INFO]Type：/home/mike/Documents/image_gesture/leapgestrecog/leapGestRecog/00/07_ok 07_ok\n",
      "[INFO]One Person Finished： /home/mike/Documents/image_gesture/leapgestrecog/leapGestRecog/00/07_ok\n",
      "[INFO]Category：/home/mike/Documents/image_gesture/leapgestrecog/leapGestRecog/05 05\n",
      "[INFO]Type：/home/mike/Documents/image_gesture/leapgestrecog/leapGestRecog/05/03_fist 03_fist\n",
      "[INFO]Type：/home/mike/Documents/image_gesture/leapgestrecog/leapGestRecog/05/08_palm_moved 08_palm_moved\n",
      "[INFO]Type：/home/mike/Documents/image_gesture/leapgestrecog/leapGestRecog/05/06_index 06_index\n",
      "[INFO]Type：/home/mike/Documents/image_gesture/leapgestrecog/leapGestRecog/05/09_c 09_c\n",
      "[INFO]Type：/home/mike/Documents/image_gesture/leapgestrecog/leapGestRecog/05/10_down 10_down\n",
      "[INFO]Type：/home/mike/Documents/image_gesture/leapgestrecog/leapGestRecog/05/01_palm 01_palm\n",
      "[INFO]Type：/home/mike/Documents/image_gesture/leapgestrecog/leapGestRecog/05/05_thumb 05_thumb\n",
      "[INFO]Type：/home/mike/Documents/image_gesture/leapgestrecog/leapGestRecog/05/02_l 02_l\n",
      "[INFO]Type：/home/mike/Documents/image_gesture/leapgestrecog/leapGestRecog/05/04_fist_moved 04_fist_moved\n",
      "[INFO]Type：/home/mike/Documents/image_gesture/leapgestrecog/leapGestRecog/05/07_ok 07_ok\n",
      "[INFO]One Person Finished： /home/mike/Documents/image_gesture/leapgestrecog/leapGestRecog/05/07_ok\n",
      "[INFO]Category：/home/mike/Documents/image_gesture/leapgestrecog/leapGestRecog/07 07\n",
      "[INFO]Type：/home/mike/Documents/image_gesture/leapgestrecog/leapGestRecog/07/03_fist 03_fist\n",
      "[INFO]Type：/home/mike/Documents/image_gesture/leapgestrecog/leapGestRecog/07/08_palm_moved 08_palm_moved\n",
      "[INFO]Type：/home/mike/Documents/image_gesture/leapgestrecog/leapGestRecog/07/06_index 06_index\n",
      "[INFO]Type：/home/mike/Documents/image_gesture/leapgestrecog/leapGestRecog/07/09_c 09_c\n",
      "[INFO]Type：/home/mike/Documents/image_gesture/leapgestrecog/leapGestRecog/07/10_down 10_down\n",
      "[INFO]Type：/home/mike/Documents/image_gesture/leapgestrecog/leapGestRecog/07/01_palm 01_palm\n",
      "[INFO]Type：/home/mike/Documents/image_gesture/leapgestrecog/leapGestRecog/07/05_thumb 05_thumb\n",
      "[INFO]Type：/home/mike/Documents/image_gesture/leapgestrecog/leapGestRecog/07/02_l 02_l\n",
      "[INFO]Type：/home/mike/Documents/image_gesture/leapgestrecog/leapGestRecog/07/04_fist_moved 04_fist_moved\n",
      "[INFO]Type：/home/mike/Documents/image_gesture/leapgestrecog/leapGestRecog/07/07_ok 07_ok\n",
      "[INFO]One Person Finished： /home/mike/Documents/image_gesture/leapgestrecog/leapGestRecog/07/07_ok\n",
      "[INFO]Category：/home/mike/Documents/image_gesture/leapgestrecog/leapGestRecog/09 09\n",
      "[INFO]Type：/home/mike/Documents/image_gesture/leapgestrecog/leapGestRecog/09/03_fist 03_fist\n",
      "[INFO]Type：/home/mike/Documents/image_gesture/leapgestrecog/leapGestRecog/09/08_palm_moved 08_palm_moved\n",
      "[INFO]Type：/home/mike/Documents/image_gesture/leapgestrecog/leapGestRecog/09/06_index 06_index\n",
      "[INFO]Type：/home/mike/Documents/image_gesture/leapgestrecog/leapGestRecog/09/09_c 09_c\n",
      "[INFO]Type：/home/mike/Documents/image_gesture/leapgestrecog/leapGestRecog/09/10_down 10_down\n",
      "[INFO]Type：/home/mike/Documents/image_gesture/leapgestrecog/leapGestRecog/09/01_palm 01_palm\n",
      "[INFO]Type：/home/mike/Documents/image_gesture/leapgestrecog/leapGestRecog/09/05_thumb 05_thumb\n",
      "[INFO]Type：/home/mike/Documents/image_gesture/leapgestrecog/leapGestRecog/09/02_l 02_l\n",
      "[INFO]Type：/home/mike/Documents/image_gesture/leapgestrecog/leapGestRecog/09/04_fist_moved 04_fist_moved\n",
      "[INFO]Type：/home/mike/Documents/image_gesture/leapgestrecog/leapGestRecog/09/07_ok 07_ok\n",
      "[INFO]One Person Finished： /home/mike/Documents/image_gesture/leapgestrecog/leapGestRecog/09/07_ok\n",
      "[INFO]All Finished!\n"
     ]
    }
   ],
   "source": [
    "# Move the iamges from the original path to the source path \n",
    "\n",
    "orig_dir = '/home/mike/Documents/image_gesture/leapgestrecog/leapGestRecog'\n",
    "src_dir  = '/home/mike/Documents/image_gesture/leapgestrecog/src_data'\n",
    "if not os.path.exists(src_dir):\n",
    "    os.makedirs(src_dir)\n",
    "\n",
    "def move_data(orig_dir, src_dir):\n",
    "\n",
    "    # Conduct three iterations with i, j and k counters\n",
    "    for i in os.listdir(orig_dir):\n",
    "        label = 0\n",
    "        # Get the original category(ca) with i pointing to any folder from 00 to 09\n",
    "        origca_dir = os.path.join(orig_dir, i)\n",
    "        print(\"[INFO]Category：%s %s\"% (origca_dir,i))\n",
    "        \n",
    "        # The counter j points to any folder from 01_palm to 10_down. \n",
    "        for j in os.listdir(origca_dir):\n",
    "            # The label is related to str(label) in the k iterations. \n",
    "            label = label + 1\n",
    "            # Create the origcaty_dir.Type(ty) represents the type of the above folders\n",
    "            origcaty_dir = os.path.join(origca_dir, j)\n",
    "            print(\"[INFO]Type：%s %s\"% (origcaty_dir,j))\n",
    "            \n",
    "            for k in os.listdir(origcaty_dir):\n",
    "                # origimg_path is the absolute path that holds the images such as frame_00_7_0001.png\n",
    "                origimg_path = os.path.join(origcaty_dir, k)\n",
    "                # Create the diretort for the label with str(label) ranging from 1 to 10\n",
    "                srclbl_dir = os.path.join(src_dir, str(label))\n",
    "                if not os.path.exists(srclbl_dir):\n",
    "                    os.makedirs(srclbl_dir)\n",
    "                # Create the absolute path \n",
    "                srcimg_path = os.path.join(srclbl_dir, k)\n",
    "                 # Move the images \n",
    "                shutil.move(origimg_path, srcimg_path)\n",
    "                \n",
    "        print(\"[INFO]One Person Finished：\", origcaty_dir)\n",
    "        \n",
    "    print(\"[INFO]All Finished!\")\n",
    "\n",
    "move_data(orig_dir, src_dir)"
   ]
  },
  {
   "cell_type": "code",
   "execution_count": 5,
   "metadata": {},
   "outputs": [
    {
     "name": "stdout",
     "output_type": "stream",
     "text": [
      "[INFO]Copy finished! : /home/mike/Documents/image_gesture/dset_data/train/3\n",
      "[INFO]Copy finished! : /home/mike/Documents/image_gesture/dset_data/validation/3\n",
      "[INFO]Copy finished! : /home/mike/Documents/image_gesture/dset_data/test/3\n",
      "[INFO]Copy finished! : /home/mike/Documents/image_gesture/dset_data/train/10\n",
      "[INFO]Copy finished! : /home/mike/Documents/image_gesture/dset_data/validation/10\n",
      "[INFO]Copy finished! : /home/mike/Documents/image_gesture/dset_data/test/10\n",
      "[INFO]Copy finished! : /home/mike/Documents/image_gesture/dset_data/train/5\n",
      "[INFO]Copy finished! : /home/mike/Documents/image_gesture/dset_data/validation/5\n",
      "[INFO]Copy finished! : /home/mike/Documents/image_gesture/dset_data/test/5\n",
      "[INFO]Copy finished! : /home/mike/Documents/image_gesture/dset_data/train/7\n",
      "[INFO]Copy finished! : /home/mike/Documents/image_gesture/dset_data/validation/7\n",
      "[INFO]Copy finished! : /home/mike/Documents/image_gesture/dset_data/test/7\n",
      "[INFO]Copy finished! : /home/mike/Documents/image_gesture/dset_data/train/9\n",
      "[INFO]Copy finished! : /home/mike/Documents/image_gesture/dset_data/validation/9\n",
      "[INFO]Copy finished! : /home/mike/Documents/image_gesture/dset_data/test/9\n",
      "[INFO]Copy finished! : /home/mike/Documents/image_gesture/dset_data/train/4\n",
      "[INFO]Copy finished! : /home/mike/Documents/image_gesture/dset_data/validation/4\n",
      "[INFO]Copy finished! : /home/mike/Documents/image_gesture/dset_data/test/4\n",
      "[INFO]Copy finished! : /home/mike/Documents/image_gesture/dset_data/train/1\n",
      "[INFO]Copy finished! : /home/mike/Documents/image_gesture/dset_data/validation/1\n",
      "[INFO]Copy finished! : /home/mike/Documents/image_gesture/dset_data/test/1\n",
      "[INFO]Copy finished! : /home/mike/Documents/image_gesture/dset_data/train/2\n",
      "[INFO]Copy finished! : /home/mike/Documents/image_gesture/dset_data/validation/2\n",
      "[INFO]Copy finished! : /home/mike/Documents/image_gesture/dset_data/test/2\n",
      "[INFO]Copy finished! : /home/mike/Documents/image_gesture/dset_data/train/6\n",
      "[INFO]Copy finished! : /home/mike/Documents/image_gesture/dset_data/validation/6\n",
      "[INFO]Copy finished! : /home/mike/Documents/image_gesture/dset_data/test/6\n",
      "[INFO]Copy finished! : /home/mike/Documents/image_gesture/dset_data/train/8\n",
      "[INFO]Copy finished! : /home/mike/Documents/image_gesture/dset_data/validation/8\n",
      "[INFO]Copy finished! : /home/mike/Documents/image_gesture/dset_data/test/8\n",
      "[INFO]training files: 10\n",
      "[INFO]validation files: 10\n",
      "[INFO]test files: 10\n",
      "[INFO]1 training images: 1000\n",
      "[INFO]1 validation images: 500\n",
      "[INFO]1 test images: 500\n"
     ]
    }
   ],
   "source": [
    "# Divide the dataset into train, validation and test sets. \n",
    "\n",
    "# Designate source and division datasets\n",
    "src_dir = '/home/mike/Documents/image_gesture/leapgestrecog/src_data'\n",
    "dset_dir = '/home/mike/Documents/image_gesture/dset_data'\n",
    "if not os.path.exists(dset_dir):\n",
    "    os.makedirs(dset_dir)\n",
    "\n",
    "if not os.path.exists(dset_dir):\n",
    "    os.makedirs(dset_dir)\n",
    "\n",
    "# Make three directories for training, validation and test\n",
    "train_dir = os.path.join(dset_dir, 'train')\n",
    "if not os.path.exists(train_dir):\n",
    "    os.mkdir(train_dir)\n",
    "    \n",
    "validation_dir = os.path.join(dset_dir, 'validation')\n",
    "if not os.path.exists(validation_dir):\n",
    "    os.mkdir(validation_dir)  \n",
    "\n",
    "test_dir = os.path.join(dset_dir, 'test')\n",
    "if not os.path.exists(test_dir):\n",
    "    os.mkdir(test_dir)\n",
    "\n",
    "    \n",
    "for num in os.listdir(src_dir):\n",
    "    # Folder 1~10\n",
    "    train_idx_dir = os.path.join(train_dir, num)\n",
    "    if not os.path.exists(train_idx_dir):\n",
    "        os.mkdir(train_idx_dir)\n",
    "        \n",
    "    validation_idx_dir = os.path.join(validation_dir, num)\n",
    "    if not os.path.exists(validation_idx_dir):\n",
    "        os.mkdir(validation_idx_dir)\n",
    "        \n",
    "    test_idx_dir = os.path.join(test_dir, num)\n",
    "    if not os.path.exists(test_idx_dir):\n",
    "        os.mkdir(test_idx_dir)\n",
    "        \n",
    "    # Index is increasing. \n",
    "    src_idx_dir = os.path.join(src_dir, num)\n",
    "    \n",
    "    # print(src_idx_dir)\n",
    "\n",
    "    j = 0\n",
    "    \n",
    "    for fname in os.listdir(src_idx_dir): \n",
    "        \n",
    "        if j < 1000:  # Copy 1000 images to the train directory\n",
    "            src = os.path.join(src_idx_dir, fname)\n",
    "            dst = os.path.join(train_idx_dir, fname)\n",
    "            shutil.copyfile(src, dst)\n",
    "        elif (j >= 1000 and j < 1500):  # Copy 500 images to the val directory\n",
    "            src = os.path.join(src_idx_dir, fname)\n",
    "            dst = os.path.join(validation_idx_dir, fname)\n",
    "            shutil.copyfile(src, dst)\n",
    "        elif (j >= 1500):  # Copy 500 images to the test directory\n",
    "            src = os.path.join(src_idx_dir, fname)\n",
    "            dst = os.path.join(test_idx_dir, fname)\n",
    "            shutil.copyfile(src, dst)\n",
    "            \n",
    "        j = j + 1\n",
    "        \n",
    "    print(\"[INFO]Copy finished! :\", train_idx_dir)\n",
    "    print(\"[INFO]Copy finished! :\", validation_idx_dir)\n",
    "    print(\"[INFO]Copy finished! :\", test_idx_dir)\n",
    "\n",
    "\n",
    "print('[INFO]training files:', len(os.listdir(train_dir)))\n",
    "print('[INFO]validation files:', len(os.listdir(validation_dir)))\n",
    "print('[INFO]test files:', len(os.listdir(test_dir)))\n",
    "\n",
    "print('[INFO]1 training images:', len(os.listdir(train_dir+\"/1/\")))\n",
    "print('[INFO]1 validation images:', len(os.listdir(validation_dir+\"/1/\")))\n",
    "print('[INFO]1 test images:', len(os.listdir(test_dir+\"/1/\")))"
   ]
  },
  {
   "cell_type": "code",
   "execution_count": 6,
   "metadata": {},
   "outputs": [],
   "source": [
    "# Assign the global arguments \n",
    "EPOCHS = 32\n",
    "BATCH_SIZE = 64\n",
    "image_width = 150\n",
    "image_height = 150\n",
    "channels = 3\n",
    "num_classes = 1"
   ]
  },
  {
   "cell_type": "code",
   "execution_count": 7,
   "metadata": {},
   "outputs": [
    {
     "data": {
      "text/plain": [
       "<bound method Network.summary of <alexnet.AlexNet object at 0x7fc37b595990>>"
      ]
     },
     "execution_count": 7,
     "metadata": {},
     "output_type": "execute_result"
    }
   ],
   "source": [
    "# Call the cnn/alexnet model \n",
    "model = AlexNet((image_width,image_height,channels), num_classes)\n",
    "\n",
    "# Model configuration\n",
    "model.compile(optimizer=optimizers.RMSprop(lr=1e-4),\n",
    "              loss='binary_crossentropy',\n",
    "              metrics=['acc'])\n",
    "\n",
    "# Summary\n",
    "model.summary"
   ]
  },
  {
   "cell_type": "code",
   "execution_count": 8,
   "metadata": {},
   "outputs": [
    {
     "name": "stdout",
     "output_type": "stream",
     "text": [
      "Found 10000 images belonging to 10 classes.\n",
      "Found 5000 images belonging to 10 classes.\n",
      "Found 5000 images belonging to 10 classes.\n"
     ]
    }
   ],
   "source": [
    "# Preprocess the images\n",
    "\n",
    "train_datagen = ImageDataGenerator(rescale=1.0/255)\n",
    "train_generator = train_datagen.flow_from_directory(train_dir,\n",
    "                                                    target_size=(image_width,image_height),\n",
    "                                                    batch_size=BATCH_SIZE,\n",
    "                                                    class_mode='binary')\n",
    "train_num = train_generator.samples\n",
    "\n",
    "validation_generator = train_datagen.flow_from_directory(validation_dir,\n",
    "                                                         target_size=(image_width,image_height),\n",
    "                                                         batch_size=BATCH_SIZE,\n",
    "                                                         class_mode='binary')\n",
    "val_num = validation_generator.samples\n",
    "\n",
    "\n",
    "test_datagen = ImageDataGenerator(rescale=1.0/255)\n",
    "test_generator = train_datagen.flow_from_directory(test_dir,\n",
    "                                                   target_size=(image_width,image_height),\n",
    "                                                   batch_size=BATCH_SIZE,\n",
    "                                                   class_mode='binary')\n",
    "test_num = test_generator.samples"
   ]
  },
  {
   "cell_type": "code",
   "execution_count": 9,
   "metadata": {},
   "outputs": [],
   "source": [
    "# Model configuration\n",
    "\n",
    "model.compile(optimizer=optimizers.RMSprop(lr=1e-4),\n",
    "              loss='binary_crossentropy',\n",
    "              metrics=['acc'])"
   ]
  },
  {
   "cell_type": "code",
   "execution_count": 10,
   "metadata": {},
   "outputs": [
    {
     "name": "stdout",
     "output_type": "stream",
     "text": [
      "data batch shape: (64, 150, 150, 3)\n",
      "labels batch shape: [5. 8. 0. 7. 6. 2. 4. 5. 4. 4. 5. 2. 2. 8. 5. 4. 3. 0. 7. 2. 2. 8. 4. 7.\n",
      " 4. 5. 3. 0. 1. 1. 8. 0. 0. 7. 8. 8. 8. 0. 3. 4. 3. 0. 9. 2. 9. 1. 9. 1.\n",
      " 1. 1. 3. 8. 3. 6. 0. 0. 2. 1. 0. 1. 5. 9. 1. 4.]\n"
     ]
    }
   ],
   "source": [
    "# Get the batch shape\n",
    "\n",
    "for data_batch, label_batch in train_generator:\n",
    "    print(\"data batch shape:\", data_batch.shape)\n",
    "    print(\"labels batch shape:\", label_batch)\n",
    "    \n",
    "    break"
   ]
  },
  {
   "cell_type": "code",
   "execution_count": 11,
   "metadata": {},
   "outputs": [],
   "source": [
    "# Set the tensorboard \n",
    "\n",
    "log_dir=\"logs/fit/\" + datetime.datetime.now().strftime(\"%Y%m%d-%H%M%S\")\n",
    "tensorboard_callback = tf.keras.callbacks.TensorBoard(log_dir=log_dir)\n",
    "callback_list = [tensorboard_callback]"
   ]
  },
  {
   "cell_type": "code",
   "execution_count": 12,
   "metadata": {
    "scrolled": true
   },
   "outputs": [
    {
     "name": "stdout",
     "output_type": "stream",
     "text": [
      "Epoch 1/32\n",
      "156/156 [==============================] - 19s 121ms/step - loss: -53.4414 - acc: 0.0997 - val_loss: -53.3265 - val_acc: 0.1002\n",
      "Epoch 2/32\n",
      "156/156 [==============================] - 19s 120ms/step - loss: -53.3616 - acc: 0.1002 - val_loss: -53.3387 - val_acc: 0.1002\n",
      "Epoch 3/32\n",
      "156/156 [==============================] - 19s 120ms/step - loss: -53.3524 - acc: 0.0998 - val_loss: -53.3846 - val_acc: 0.1000\n",
      "Epoch 4/32\n",
      "156/156 [==============================] - 18s 117ms/step - loss: -53.4506 - acc: 0.0991 - val_loss: -53.3998 - val_acc: 0.1000\n",
      "Epoch 5/32\n",
      "156/156 [==============================] - 18s 117ms/step - loss: -53.3355 - acc: 0.1014 - val_loss: -53.3326 - val_acc: 0.1002\n",
      "Epoch 6/32\n",
      "156/156 [==============================] - 18s 117ms/step - loss: -53.3493 - acc: 0.0997 - val_loss: -53.3662 - val_acc: 0.0998\n",
      "Epoch 7/32\n",
      "156/156 [==============================] - 18s 117ms/step - loss: -53.3984 - acc: 0.0997 - val_loss: -53.3907 - val_acc: 0.0998\n",
      "Epoch 8/32\n",
      "156/156 [==============================] - 18s 117ms/step - loss: -53.3892 - acc: 0.0993 - val_loss: -53.3632 - val_acc: 0.1000\n",
      "Epoch 9/32\n",
      "156/156 [==============================] - 18s 117ms/step - loss: -53.3662 - acc: 0.1003 - val_loss: -53.3723 - val_acc: 0.1000\n",
      "Epoch 10/32\n",
      "156/156 [==============================] - 18s 118ms/step - loss: -53.2127 - acc: 0.1004 - val_loss: -53.3632 - val_acc: 0.1002\n",
      "Epoch 11/32\n",
      "156/156 [==============================] - 18s 118ms/step - loss: -53.4644 - acc: 0.0997 - val_loss: -53.3326 - val_acc: 0.1002\n",
      "Epoch 12/32\n",
      "156/156 [==============================] - 18s 117ms/step - loss: -53.2496 - acc: 0.1008 - val_loss: -53.3296 - val_acc: 0.1002\n",
      "Epoch 13/32\n",
      "156/156 [==============================] - 18s 118ms/step - loss: -53.7131 - acc: 0.0983 - val_loss: -53.3296 - val_acc: 0.1002\n",
      "Epoch 14/32\n",
      "156/156 [==============================] - 18s 117ms/step - loss: -53.1421 - acc: 0.1004 - val_loss: -53.4090 - val_acc: 0.1000\n",
      "Epoch 15/32\n",
      "156/156 [==============================] - 18s 117ms/step - loss: -53.2219 - acc: 0.1010 - val_loss: -53.3754 - val_acc: 0.1000\n",
      "Epoch 16/32\n",
      "156/156 [==============================] - 18s 117ms/step - loss: -53.5366 - acc: 0.1020 - val_loss: -53.4243 - val_acc: 0.0998\n",
      "Epoch 17/32\n",
      "156/156 [==============================] - 18s 118ms/step - loss: -53.3723 - acc: 0.0989 - val_loss: -53.3723 - val_acc: 0.1002\n",
      "Epoch 18/32\n",
      "156/156 [==============================] - 18s 118ms/step - loss: -53.5473 - acc: 0.0993 - val_loss: -53.4182 - val_acc: 0.0998\n",
      "Epoch 19/32\n",
      "156/156 [==============================] - 18s 117ms/step - loss: -53.1605 - acc: 0.0994 - val_loss: -53.3662 - val_acc: 0.1002\n",
      "Epoch 20/32\n",
      "156/156 [==============================] - 18s 117ms/step - loss: -53.5857 - acc: 0.0995 - val_loss: -53.3601 - val_acc: 0.1000\n",
      "Epoch 21/32\n",
      "156/156 [==============================] - 18s 117ms/step - loss: -53.0991 - acc: 0.0989 - val_loss: -53.3479 - val_acc: 0.1000\n",
      "Epoch 22/32\n",
      "156/156 [==============================] - 18s 117ms/step - loss: -53.4306 - acc: 0.1007 - val_loss: -53.3907 - val_acc: 0.1002\n",
      "Epoch 23/32\n",
      "156/156 [==============================] - 18s 119ms/step - loss: -53.4522 - acc: 0.0983 - val_loss: -53.4151 - val_acc: 0.0998\n",
      "Epoch 24/32\n",
      "156/156 [==============================] - 18s 116ms/step - loss: -53.4828 - acc: 0.1036 - val_loss: -53.3876 - val_acc: 0.1000\n",
      "Epoch 25/32\n",
      "156/156 [==============================] - 18s 117ms/step - loss: -53.4429 - acc: 0.0993 - val_loss: -53.3418 - val_acc: 0.1002\n",
      "Epoch 26/32\n",
      "156/156 [==============================] - 18s 117ms/step - loss: -52.8459 - acc: 0.1021 - val_loss: -53.3601 - val_acc: 0.1000\n",
      "Epoch 27/32\n",
      "156/156 [==============================] - 18s 117ms/step - loss: -53.7882 - acc: 0.0962 - val_loss: -53.3357 - val_acc: 0.1002\n",
      "Epoch 28/32\n",
      "156/156 [==============================] - 18s 117ms/step - loss: -53.3723 - acc: 0.1011 - val_loss: -53.3846 - val_acc: 0.1000\n",
      "Epoch 29/32\n",
      "156/156 [==============================] - 18s 118ms/step - loss: -52.9534 - acc: 0.1014 - val_loss: -53.3784 - val_acc: 0.0998\n",
      "Epoch 30/32\n",
      "156/156 [==============================] - 18s 118ms/step - loss: -53.7760 - acc: 0.0986 - val_loss: -53.3937 - val_acc: 0.1000\n",
      "Epoch 31/32\n",
      "156/156 [==============================] - 18s 119ms/step - loss: -53.1974 - acc: 0.1007 - val_loss: -53.3937 - val_acc: 0.0998\n",
      "Epoch 32/32\n",
      "156/156 [==============================] - 18s 117ms/step - loss: -53.5765 - acc: 0.0990 - val_loss: -53.3510 - val_acc: 0.1000\n"
     ]
    }
   ],
   "source": [
    "# 8.Tain the model\n",
    "history = model.fit(train_generator,\n",
    "                    steps_per_epoch=train_num//BATCH_SIZE,\n",
    "                    epochs=EPOCHS, \n",
    "                    validation_data=validation_generator,\n",
    "                    validation_steps=val_num//BATCH_SIZE)"
   ]
  },
  {
   "cell_type": "code",
   "execution_count": 13,
   "metadata": {},
   "outputs": [
    {
     "data": {
      "image/png": "[encoded data removed]",
      "text/plain": [
       "<Figure size 1080x288 with 2 Axes>"
      ]
     },
     "metadata": {
      "needs_background": "light"
     },
     "output_type": "display_data"
    }
   ],
   "source": [
    "# Evaluate the model with visulizing the result \n",
    "\n",
    "acc = history.history['acc']\n",
    "val_acc = history.history['val_acc']\n",
    "loss = history.history['loss']\n",
    "val_loss = history.history['val_loss']\n",
    "epochs = range(len(acc))\n",
    "\n",
    "plt.figure(figsize=(15,4))\n",
    "plt.subplot(1,2,1)\n",
    "plt.plot(epochs, acc, 'b', label='Training acc', color='green')\n",
    "plt.plot(epochs, val_acc, 'b', label='Validation acc')\n",
    "plt.title('Training and validation accuracy')\n",
    "plt.legend()\n",
    "\n",
    "plt.subplot(1,2,2)\n",
    "plt.plot(epochs, loss, 'bo', label='Training loss', color='green')\n",
    "plt.plot(epochs, val_loss, 'b', label='Validation loss')\n",
    "plt.title('Training and validation loss')\n",
    "plt.legend()\n",
    "\n",
    "plt.show()"
   ]
  },
  {
   "cell_type": "code",
   "execution_count": 14,
   "metadata": {
    "scrolled": true
   },
   "outputs": [
    {
     "name": "stdout",
     "output_type": "stream",
     "text": [
      "(1, 150, 150, 3)\n"
     ]
    },
    {
     "data": {
      "image/png": "[encoded data removed]",
      "text/plain": [
       "<Figure size 432x288 with 1 Axes>"
      ]
     },
     "metadata": {
      "needs_background": "light"
     },
     "output_type": "display_data"
    },
    {
     "name": "stdout",
     "output_type": "stream",
     "text": [
      "The 1st layer network size： (1, 35, 35, 96)\n"
     ]
    },
    {
     "data": {
      "image/png": "[encoded data removed]",
      "text/plain": [
       "<Figure size 288x288 with 1 Axes>"
      ]
     },
     "metadata": {
      "needs_background": "light"
     },
     "output_type": "display_data"
    },
    {
     "data": {
      "image/png": "[encoded data removed]",
      "text/plain": [
       "<Figure size 288x288 with 1 Axes>"
      ]
     },
     "metadata": {
      "needs_background": "light"
     },
     "output_type": "display_data"
    }
   ],
   "source": [
    "# Preprocess the image into a 4D tensor\n",
    "\n",
    "# Prepare a path for a specific image \n",
    "img_path = '/home/mike/Documents/image_gesture/dset_data/test/1/frame_00_03_0001.png'\n",
    "\n",
    "img = image.load_img(img_path, target_size=(150,150))\n",
    "img_tensor = image.img_to_array(img)\n",
    "img_tensor = np.expand_dims(img_tensor, axis=0)\n",
    "\n",
    "# The model was trained on the inputs that were preprocessed as follows. \n",
    "img_tensor /= 255.\n",
    "\n",
    "# The shape is (1, 150, 150, 3)\n",
    "print(img_tensor.shape)\n",
    "\n",
    "plt.imshow(img_tensor[0])\n",
    "plt.show()\n",
    "\n",
    "layer_outputs = [layer.output for layer in model.layers[:8]]\n",
    "activation_model = models.Model(inputs=model.input, outputs=layer_outputs)\n",
    "activations = activation_model.predict(img_tensor)\n",
    "\n",
    "first_layer_activation=activations[0]\n",
    "print('The 1st layer network size：',first_layer_activation.shape)\n",
    "\n",
    "# The third channel\n",
    "plt.matshow(first_layer_activation[0,:,:,3],cmap=\"viridis\")\n",
    "plt.show()\n",
    "\n",
    "# The tenth channel\n",
    "plt.matshow(first_layer_activation[0,:,:,30],cmap=\"viridis\")\n",
    "plt.show()"
   ]
  },
  {
   "cell_type": "code",
   "execution_count": 15,
   "metadata": {},
   "outputs": [],
   "source": [
    "# Release the GPU memory \n",
    "\n",
    "cuda.select_device(0)\n",
    "cuda.close()"
   ]
  }
 ],
 "metadata": {
  "kernelspec": {
   "display_name": "Python 3",
   "language": "python",
   "name": "python3"
  },
  "language_info": {
   "codemirror_mode": {
    "name": "ipython",
    "version": 3
   },
   "file_extension": ".py",
   "mimetype": "text/x-python",
   "name": "python",
   "nbconvert_exporter": "python",
   "pygments_lexer": "ipython3",
   "version": "3.7.7"
  }
 },
 "nbformat": 4,
 "nbformat_minor": 4
}
